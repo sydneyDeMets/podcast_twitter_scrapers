from serpapi import GoogleSearch
import pandas as pd

def search_name(name):
    search_term = name + " twitter account"
    print(search_term)
    params = {
        "api_key": api_key,
        "engine": "google",
        "q": search_term,
        "location": "Austin, Texas, United States",
        "google_domain": "google.com",
        "gl": "us",
        "hl": "en"}
    search = GoogleSearch(params)
    result = search.get_dict()
    return(result)

def extract_handles(d):
    try:
        r1=d['twitter_results']['title']
    except KeyError:
        r1= d['organic_results']
    return(r1)

def grab_top_handle(dt):
    if type(dt)==list:
        r = len(dt)
        iz = []
        lz = []
        for i in range(0,r):
            if dt[i]['title'].endswith("X"):
                iz.append(dt[i]['title'])
                #print(dt[i]['title'])
                ix = iz[0]
                #print(ix)
                lz.append(ix)
            else: 
                if dt[i]['source'].startswith("X"):
                    iz.append(dt[i]['source'])
                    ix = iz[0]
                    lz.append(ix)#do nothing
                else:
                    lz.append("na")
        top_handle = lz[0]
    else:
        top_handle = dt
    return(top_handle)

def clean_handle(handle):
    if handle.startswith("X"):
        h = handle[handle.find("X")+4:len(handle)]
    else:
        h = handle[handle.find("(")+2:handle.find(")")]
    return(h)

def make_x_link(h):
    link = "https://x.com/" + h
    return(link)
